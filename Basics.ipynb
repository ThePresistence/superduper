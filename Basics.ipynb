{
 "cells": [
  {
   "cell_type": "markdown",
   "id": "20599649-2faa-431f-9c05-457d57095492",
   "metadata": {
    "id": "20599649-2faa-431f-9c05-457d57095492"
   },
   "source": [
    "**__Allways wins Positivity__**"
   ]
  },
  {
   "cell_type": "markdown",
   "id": "fc0d074c-46b8-4ed3-94da-2e36e5d020ac",
   "metadata": {
    "id": "fc0d074c-46b8-4ed3-94da-2e36e5d020ac"
   },
   "source": [
    "**PEP8** ( **P**ython **E**nchament **P**roposoal **8** version )\n",
    "Refer This: <a href=\"https://www.python.org/dev/peps/pep-0008/\"> Click to view detailed proposal web pape</a>"
   ]
  },
  {
   "cell_type": "markdown",
   "id": "82a2d7c7-a87a-4fd1-a58b-b407452a04d0",
   "metadata": {
    "id": "82a2d7c7-a87a-4fd1-a58b-b407452a04d0"
   },
   "source": [
    "* The Best coder always uses the PEP8 Format for good redablity.\n",
    "### PEP 8 Sections:\n",
    "1. <a href=\"#Naming-Conventions\">Naming Conventions</a>\n",
    "2. <a href=\"#Indentation\">Indentation</a>\n",
    "3. <a href=\"#Code-layout\">CodeLayout</a>\n",
    "4. <a href =\"#Comments\">Comments</a>\n",
    "5. <a href =\"#Function documentation\">Function documentation</a>"
   ]
  },
  {
   "cell_type": "markdown",
   "id": "3c42090e-10d3-490e-b5c9-8129f4025567",
   "metadata": {
    "id": "3c42090e-10d3-490e-b5c9-8129f4025567"
   },
   "source": [
    "# Naming Conventions\n",
    "* Function, Variables, class, method, module, package and more..\n",
    "* Naming convention is nothing but assigning all the conventions with some standard!\n",
    "\n",
    "## Types of Naming Conventions:\n",
    "\n",
    "### Camel Case:\n",
    "* Second and Subsequent words first character is capitalized.\n",
    "* EX: human**W**alking**D**istance.\n",
    "\n",
    "### Pascal Case:\n",
    "* Indentical to camel case, all the words starting with first letter is capitalized.\n",
    "* EX: **H**uman**W**alking**D**istance.\n",
    "\n",
    "### Snake Case:\n",
    "* Words are seperated by underscore.\n",
    "* Ex: human_walking_distance.\n",
    "* Every word seperated by underscore and none of the word in capitalized."
   ]
  },
  {
   "cell_type": "markdown",
   "id": "b8f1b8ef-2b7a-404d-8cc2-1eba6ca30075",
   "metadata": {
    "id": "b8f1b8ef-2b7a-404d-8cc2-1eba6ca30075"
   },
   "source": [
    "**Examples**:\n"
   ]
  },
  {
   "cell_type": "code",
   "execution_count": null,
   "id": "2eb0ad15-813b-422b-a639-e884fe81e0d8",
   "metadata": {
    "id": "2eb0ad15-813b-422b-a639-e884fe81e0d8",
    "outputId": "f4ac05b7-937d-4a13-8c7a-d374e26408d1"
   },
   "outputs": [
    {
     "data": {
      "text/plain": [
       "'\\n   package \\n   newpackage\\n'"
      ]
     },
     "execution_count": 1,
     "metadata": {},
     "output_type": "execute_result"
    }
   ],
   "source": [
    "# variables - snake case\n",
    "age = 10\n",
    "employe_age = 10\n",
    "\n",
    "# functions - snake case\n",
    "def add():\n",
    "    pass\n",
    "\n",
    "def calculate_mean_median():\n",
    "    pass\n",
    "\n",
    "# class - pascal case ( it follows the pascal standard naturally )\n",
    "class FullTimeEmployee:\n",
    "    pass\n",
    "\n",
    "# methods - snake case ( Method is nothing but function inside the class )\n",
    "class PartTimeEmployee:\n",
    "    def partial_salary(self):\n",
    "        pass\n",
    "#------------------------------------------------------------------------------------------------------------------------------------------------------------------\n",
    "\n",
    "# constant - all uppercase with snake format\n",
    "PI = 3.14\n",
    "CONSTANT_PI = 3.14\n",
    "\n",
    "#------------------------------------------------------------------------------------------------------------------------------------------------------------------\n",
    "\n",
    "# module - use a short, lowercase words & words seperated by underscore, No capitalization ( module is nothing but python file )\n",
    "\"\"\" module.py\n",
    "    module_file.py\n",
    "\"\"\"\n",
    "\n",
    "#------------------------------------------------------------------------------------------------------------------------------------------------------------------\n",
    "\n",
    "# package - use a short, lowercase words, Do NOt seperated by underscore, No capitalization ( package is nothing but group of modules )\n",
    "\"\"\"\n",
    "   package\n",
    "   newpackage\n",
    "\"\"\""
   ]
  },
  {
   "cell_type": "markdown",
   "id": "a034fe69-ba1a-444d-9f1a-ee2b203b07fe",
   "metadata": {
    "id": "a034fe69-ba1a-444d-9f1a-ee2b203b07fe"
   },
   "source": [
    "# Indentation\n",
    "* There are three types of indentation.\n",
    "\n",
    "### Types of Indentation:\n",
    "1. Indentation - Four Spaces\n",
    "2. Line Break\n",
    "3. Hanging Indent"
   ]
  },
  {
   "cell_type": "markdown",
   "id": "93526978-898d-4a15-ab22-5f9cabc4a905",
   "metadata": {
    "id": "93526978-898d-4a15-ab22-5f9cabc4a905"
   },
   "source": [
    "**Example**"
   ]
  },
  {
   "cell_type": "code",
   "execution_count": null,
   "id": "f87392d1-b8cb-407b-8fb0-e17233666b79",
   "metadata": {
    "id": "f87392d1-b8cb-407b-8fb0-e17233666b79",
    "outputId": "ecafdd26-5e19-4f35-d9bf-883ee1be6005"
   },
   "outputs": [
    {
     "name": "stdout",
     "output_type": "stream",
     "text": [
      "This is not a movie for kids 🤣\n"
     ]
    }
   ],
   "source": [
    "# Indentation - 4 spaces\n",
    "age = 17\n",
    "\n",
    "if age>17:  # After colon whenever you're clicking the enter,py automatically starts with four spaces.\n",
    "    print(f'This is a movie for adults')\n",
    "else:\n",
    "    print('This is not a movie for kids 🤣')\n",
    "\n",
    "# -------------------------------------------------------------------------------------------------------------------------------------------------------------------\n",
    "# Line Break\n",
    "\n",
    "\"\"\"\n",
    "    * Line Break is nothing but if you have a very big line, you can click enter then automatically lines starts with correct indentation.\n",
    "    * Each single line can have maximum 7 characters.\n",
    "\"\"\"\n",
    "\n",
    "def add(int_arg, float_arg,\n",
    "        str_arg, bool_arg): # line break :)\n",
    "    pass\n",
    "\n",
    "age = 10\n",
    "if (age>0 and\n",
    "        age<=17): # line break\n",
    "    pass\n",
    "# -------------------------------------------------------------------------------------------------------------------------------------------------------------------\n",
    "# Hanging\n",
    "\n",
    "\"\"\" First line we need to give the empty space and we can start with line break. It is specifially for Parameters based approach \"\"\"\n",
    "\n",
    "def add(\n",
    "    int_arg, float_arg\n",
    "    str_ag, bool_arg,\n",
    "    int_arg, summa_arg):\n",
    "    pass\n",
    "\n",
    "class Employee:\n",
    "    pass"
   ]
  },
  {
   "cell_type": "markdown",
   "id": "f366620a-9325-462f-b305-b91d2d5ddd8a",
   "metadata": {
    "id": "f366620a-9325-462f-b305-b91d2d5ddd8a"
   },
   "source": [
    "# Code layout\n",
    "\n",
    "### Three types of Code layout:\n",
    "1. Two Blank lines\n",
    "2. Single Blank lines\n",
    "3. Clear steps"
   ]
  },
  {
   "cell_type": "code",
   "execution_count": null,
   "id": "3fc43727-369b-42ec-b7bf-b7d6b4cff828",
   "metadata": {
    "id": "3fc43727-369b-42ec-b7bf-b7d6b4cff828"
   },
   "outputs": [],
   "source": [
    "# two blank lines\n",
    "\"\"\" When you have lots of classes and functions in a script, better to leave two blank lines \"\"\"\n",
    "\n",
    "class FullTimeEmployee:\n",
    "    pass\n",
    "\n",
    "\n",
    "class PartTimeEmployee:\n",
    "    pass\n",
    "\n",
    "\n",
    "def calculate_mean_median(): # stand alone function :)\n",
    "    pass\n",
    "\n",
    "def another_function(): # snake case\n",
    "    pass\n",
    "\n",
    "#------------------------------------------------------------------------------------------------------------------------------------------------------------------\n",
    "\n",
    "# Single Blank line\n",
    "\n",
    "class FullTimeEmployee:\n",
    "    def monthy_salary(self): # Single blank lines between the methods:\n",
    "        pass\n",
    "\n",
    "    def yearly_bonus(self):# you can't give single blank line after the class, you can use the methods next to the class. No worry at all :)\n",
    "        pass\n",
    "\n",
    "#------------------------------------------------------------------------------------------------------------------------------------------------------------------\n",
    "\n",
    "# Clear steps:\n",
    "\n",
    "def calculate_variance(number_list):\n",
    "    sum_list = 0\n",
    "    for number in number_list:\n",
    "        sum_list = sum_list + number\n",
    "    mean = sum_list // len(number_list)  # here is the clear step ( It mean single line indentation between two for loops and return statement )\n",
    "\n",
    "    sum_squres = 0\n",
    "    for number in number_list:\n",
    "        sum_squares = sum_squares + numbers ** 2\n",
    "    mean_squres = sum_squres // len(number_list)\n",
    "\n",
    "    return mean_sqares - mean**2\n"
   ]
  },
  {
   "cell_type": "markdown",
   "id": "29605979-e6bb-495a-ba97-302c67590e20",
   "metadata": {
    "id": "29605979-e6bb-495a-ba97-302c67590e20"
   },
   "source": [
    "# Comments\n",
    "\n",
    "### Three types of Comments:\n",
    "1. Block Comments\n",
    "2. Inline Comments\n",
    "3. Documentation Comments"
   ]
  },
  {
   "cell_type": "code",
   "execution_count": null,
   "id": "07ac540b-fcde-4c67-b5d9-96caf793d546",
   "metadata": {
    "id": "07ac540b-fcde-4c67-b5d9-96caf793d546",
    "outputId": "25f3c029-0cad-4ef6-e559-54e6f1248606"
   },
   "outputs": [
    {
     "name": "stdout",
     "output_type": "stream",
     "text": [
      "The Zen of Python, by Tim Peters\n",
      "\n",
      "Beautiful is better than ugly.\n",
      "Explicit is better than implicit.\n",
      "Simple is better than complex.\n",
      "Complex is better than complicated.\n",
      "Flat is better than nested.\n",
      "Sparse is better than dense.\n",
      "Readability counts.\n",
      "Special cases aren't special enough to break the rules.\n",
      "Although practicality beats purity.\n",
      "Errors should never pass silently.\n",
      "Unless explicitly silenced.\n",
      "In the face of ambiguity, refuse the temptation to guess.\n",
      "There should be one-- and preferably only one --obvious way to do it.\n",
      "Although that way may not be obvious at first unless you're Dutch.\n",
      "Now is better than never.\n",
      "Although never is often better than *right* now.\n",
      "If the implementation is hard to explain, it's a bad idea.\n",
      "If the implementation is easy to explain, it may be a good idea.\n",
      "Namespaces are one honking great idea -- let's do more of those!\n"
     ]
    }
   ],
   "source": [
    "import this # This statement refers to the redability of your code"
   ]
  },
  {
   "cell_type": "code",
   "execution_count": null,
   "id": "77b4f2b8-7ce0-4bff-a4cd-c35b8b5ae08d",
   "metadata": {
    "id": "77b4f2b8-7ce0-4bff-a4cd-c35b8b5ae08d",
    "outputId": "cce65547-6256-470d-d8a9-9cb885af6630"
   },
   "outputs": [
    {
     "name": "stdout",
     "output_type": "stream",
     "text": [
      "0123456789 \n",
      "    Here the documentation comments: ( you can write multiple or block of comments ) \n",
      "    \n"
     ]
    }
   ],
   "source": [
    "# Block comments\n",
    "\"\"\"\n",
    "    1. After the hash symbol we need to give the single space.\n",
    "    2. Block comments states that multiple comment(hash) statement.\n",
    "\"\"\"\n",
    "\n",
    "for x in range(0,10):\n",
    "    # this is going to loop for ten times\n",
    "    # used for looping the given range values\n",
    "    # also to print some values\n",
    "    print(x, end = '')\n",
    "\n",
    "class Employee:\n",
    "    # this is class block comments\n",
    "    # we can write more commments here\n",
    "    # This is also called block comments\n",
    "    pass\n",
    "#------------------------------------------------------------------------------------------------------------------------------------------------------------------\n",
    "\n",
    "# Inline comments\n",
    "\"\"\"\n",
    "   1. If you want to use the comment in particular line, you can give space after the line ends and start the comment.\n",
    "   2. Inline comments not used oftenly because you can't write inline commnets for every line.\n",
    "\"\"\"\n",
    "\n",
    "age = 10  # Inline comments need to have 2 spaces and start the comments\n",
    "name = 'aravind'  # This is my name\n",
    "\n",
    "#------------------------------------------------------------------------------------------------------------------------------------------------------------------\n",
    "\n",
    "# Documentation comments\n",
    "\n",
    "def calculate_mean_median():\n",
    "    '''\n",
    "    Here the documentation comments: ( you can write multiple or block of comments )\n",
    "    '''\n",
    "    pass\n",
    "print(calculate_mean_median.__doc__) # To read the documentation comments. __doc__ - dunder variable :\n"
   ]
  },
  {
   "cell_type": "markdown",
   "id": "02ae3ec6-f57a-4284-bcc5-a81e5a237303",
   "metadata": {
    "id": "02ae3ec6-f57a-4284-bcc5-a81e5a237303"
   },
   "source": [
    "## Resources\n",
    "\n",
    "1. [pep8](https://www.youtube.com/watch?v=WDkM81ZnGUY)\n",
    "2. [function and method documentation](https://www.dataquest.io/blog/documenting-in-python-with-docstrings/#:~:text=This%20function%20is%20pretty%20straightforward,by%20the%20'operation'%20argument.)"
   ]
  },
  {
   "cell_type": "markdown",
   "id": "66ae33a5-fb15-40d9-b6e6-b312d339dda4",
   "metadata": {
    "id": "66ae33a5-fb15-40d9-b6e6-b312d339dda4"
   },
   "source": []
  },
  {
   "cell_type": "markdown",
   "id": "qEduXbjPjosN",
   "metadata": {
    "id": "qEduXbjPjosN"
   },
   "source": [
    "# Function documentation"
   ]
  },
  {
   "cell_type": "code",
   "execution_count": null,
   "id": "o4jfQ0_hjP_P",
   "metadata": {
    "id": "o4jfQ0_hjP_P"
   },
   "outputs": [],
   "source": [
    "def days_release(date):\n",
    "    \"\"\"\n",
    "    Return the difference in days between the current date and game release date.\n",
    "\n",
    "    Parameter\n",
    "    ---------\n",
    "    date : str\n",
    "        Release date in string format.\n",
    "\n",
    "    Returns\n",
    "    -------\n",
    "    int64\n",
    "        Integer difference in days.\n",
    "    \"\"\"\n",
    "    current_date = datetime.now()\n",
    "    release_date_dt = datetime.strptime(date, \"\n",
    "    return (current_date - release_date_dt).days"
   ]
  },
  {
   "cell_type": "markdown",
   "id": "djmMcmsAkhAz",
   "metadata": {
    "id": "djmMcmsAkhAz"
   },
   "source": [
    "# Module documentation\n"
   ]
  },
  {
   "cell_type": "code",
   "execution_count": null,
   "id": "s8TC7iBFkk-E",
   "metadata": {
    "id": "s8TC7iBFkk-E"
   },
   "outputs": [],
   "source": [
    "\"\"\"\n",
    "DKK-EUR and EUR-DKK converter.\n",
    "\n",
    "This script allows the conversion of Danish kroner to euros and euros to Danish kroner with a fixed exchange rate\n",
    "of 7.45 Danish krone for one euro.\n",
    "\n",
    "It is required to specify the conversion type: either dkk-eur or eur-dkk as well as the type of the input currency\n",
    "(EUR or DKK).\n",
    "\n",
    "This file contains the following functions:\n",
    "\n",
    "    * dkk_converter - converts Danish kroner to euros\n",
    "    * eur_converter - converts euros to Danish kroner\n",
    "    * main - main function of the script\n",
    "\"\"\""
   ]
  }
 ],
 "metadata": {
  "colab": {
   "provenance": []
  },
  "kernelspec": {
   "display_name": "Python 3 (ipykernel)",
   "language": "python",
   "name": "python3"
  },
  "language_info": {
   "codemirror_mode": {
    "name": "ipython",
    "version": 3
   },
   "file_extension": ".py",
   "mimetype": "text/x-python",
   "name": "python",
   "nbconvert_exporter": "python",
   "pygments_lexer": "ipython3",
   "version": "3.9.7"
  }
 },
 "nbformat": 4,
 "nbformat_minor": 5
}
